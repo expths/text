{
 "cells": [
  {
   "cell_type": "code",
   "execution_count": 44,
   "metadata": {},
   "outputs": [
    {
     "name": "stdout",
     "output_type": "stream",
     "text": [
      "0\n",
      "0\n",
      "0\n",
      "0\n",
      "0\n",
      "0\n",
      "0.011904761904761908\n",
      "0\n",
      "0\n",
      "[[0.         0.         0.         1.         0.         0.\n",
      "  0.         0.         0.        ]\n",
      " [0.         0.         0.33333333 0.         0.66666667 0.\n",
      "  0.         0.         0.        ]\n",
      " [0.         0.08333333 0.         0.5        0.         0.41666667\n",
      "  0.         0.         0.        ]\n",
      " [0.01190476 0.         0.21428571 0.         0.53571429 0.\n",
      "  0.23809524 0.         0.        ]\n",
      " [0.         0.04761905 0.         0.35714286 0.         0.47619048\n",
      "  0.         0.11904762 0.        ]\n",
      " [0.         0.         0.11904762 0.         0.47619048 0.\n",
      "  0.35714286 0.         0.04761905]\n",
      " [0.         0.         0.         0.23809524 0.         0.53571429\n",
      "  0.         0.21428571 0.        ]\n",
      " [0.         0.         0.         0.         0.41666667 0.\n",
      "  0.5        0.         0.08333333]\n",
      " [0.         0.         0.         0.         0.         0.66666667\n",
      "  0.         0.33333333 0.        ]]\n",
      "[[  1.02340353   9.1357337   36.60407609  85.96589674 127.79327446\n",
      "  127.15557065  84.          36.23845109   9.0748981 ]\n",
      " [  1.01508152   9.18100947  36.84643749  85.26684783 128.31993317\n",
      "  127.5229223   84.          36.30893749   9.0982649 ]\n",
      " [  1.01677989   9.21160937  36.55471448  85.40951087 127.72304647\n",
      "  127.52997582  84.          36.23596448   9.0925197 ]\n",
      " [  1.02340353   9.1357337   36.60407609  84.96589674 127.79327446\n",
      "  127.15557065  84.          36.23845109   9.0748981 ]\n",
      " [  1.01423234   9.16570951  36.49229899  85.1955163  127.61837652\n",
      "  127.51939554  84.          36.34542399   9.1011375 ]\n",
      " [  1.0091712    9.10878016  36.43713595  84.77038043 127.51939554\n",
      "  126.98067272  84.          36.21838595   9.11251658]\n",
      " [  1.           9.          36.          84.         126.\n",
      "  126.          83.          36.           9.        ]\n",
      " [  1.00662364   9.07723437  36.23596448  84.55638587 127.20898397\n",
      "  126.76435082  84.          36.18908948   9.13548845]\n",
      " [  1.00832201   9.0982649   36.37007879  84.69904891 127.41592502\n",
      "  127.57523208  84.          36.54195379   9.12017387]] \n",
      " 85.00000000000566\n"
     ]
    }
   ],
   "source": [
    "from scipy.stats import hypergeom\n",
    "import numpy as np\n",
    "# N为牌总数\n",
    "# K为反面总个数\n",
    "# 由于9为终态，将其暂时排除。\n",
    "N = 9\n",
    "A = list()  # 转移矩阵\n",
    "for K in range(0, N):\n",
    "    X = hypergeom(N, K, 3).pmf(range(0, 4))  # 超几何分布\n",
    "    B = [0]*10  # 转移概率\n",
    "    for i in range(0, 4):\n",
    "        if X[i] == 0:\n",
    "            continue\n",
    "        B[[K+3, K+1, K-1, K-3][i]] = X[i]\n",
    "    A.append(B[:9])\n",
    "A = np.array(A)  # 转移矩阵\n",
    "E = np.eye(9)  # 单位矩阵\n",
    "\n",
    "print(A)\n",
    "B = np.linalg.inv(E-A)\n",
    "B = np.dot(B, A)\n",
    "print(B, \"\\n\", B[0, 6]+1)\n"
   ]
  },
  {
   "cell_type": "code",
   "execution_count": 118,
   "metadata": {},
   "outputs": [
    {
     "name": "stdout",
     "output_type": "stream",
     "text": [
      "均值 1159.922932330827\n",
      "方差 604902.5265103021\n",
      "最大频率 [(63, 49)]\n"
     ]
    },
    {
     "data": {
      "image/png": "[encoded data removed]",
      "text/plain": [
       "<Figure size 432x288 with 1 Axes>"
      ]
     },
     "metadata": {
      "needs_background": "light"
     },
     "output_type": "display_data"
    }
   ],
   "source": [
    "import random\n",
    "from collections import Counter\n",
    "import matplotlib.pyplot as plt\n",
    "import statistics\n",
    "\n",
    "\n",
    "def f():\n",
    "    X = [False]*9\n",
    "    n = 0\n",
    "    while not all(X):\n",
    "        for i in random.sample(range(9), 3):\n",
    "            X[i] = not X[i]\n",
    "        n += 1\n",
    "    return n\n",
    "\n",
    "\n",
    "data = Counter(f() for _ in range(10000))\n",
    "print(\"均值\", statistics.mean(data))\n",
    "print(\"方差\", statistics.variance(data))\n",
    "print(\"最大频率\", data.most_common(1))\n",
    "\n",
    "plt.bar(data.keys(), data.values())\n",
    "plt.show()\n"
   ]
  },
  {
   "cell_type": "code",
   "execution_count": 107,
   "metadata": {},
   "outputs": [
    {
     "data": {
      "text/plain": [
       "1.0507531855153824e-67"
      ]
     },
     "execution_count": 107,
     "metadata": {},
     "output_type": "execute_result"
    }
   ],
   "source": [
    "from scipy.stats import poisson\n",
    "\n",
    "poisson.pmf(1100, 1778)\n"
   ]
  },
  {
   "cell_type": "code",
   "execution_count": 125,
   "metadata": {},
   "outputs": [
    {
     "name": "stdout",
     "output_type": "stream",
     "text": [
      "(array([245.60681882,   8.60302543]), array([[ 4.15461482e+02, -1.34559572e+00],\n",
      "       [-1.34559572e+00,  9.11537153e-02]]))\n"
     ]
    },
    {
     "name": "stderr",
     "output_type": "stream",
     "text": [
      "C:\\Users\\main\\AppData\\Local\\Temp\\ipykernel_35888\\10979719.py:18: RuntimeWarning: overflow encountered in power\n",
      "  return (1 - p) ** (x - 1) * p\n",
      "C:\\Users\\main\\AppData\\Local\\Temp\\ipykernel_35888\\10979719.py:18: RuntimeWarning: overflow encountered in multiply\n",
      "  return (1 - p) ** (x - 1) * p\n"
     ]
    },
    {
     "data": {
      "text/plain": [
       "(array([1.01000001]), array([[0.00468954]]))"
      ]
     },
     "execution_count": 125,
     "metadata": {},
     "output_type": "execute_result"
    }
   ],
   "source": [
    "import numpy as np\n",
    "from scipy.optimize import curve_fit  # 曲线拟合\n",
    "\n",
    "X = np.array(list(data.keys()))\n",
    "Y = np.array(list(data.values()))\n",
    "\n",
    "# 多项式拟合\n",
    "np.polyfit(X, Y, 2)\n",
    "\n",
    "\n",
    "def reciprocal_func(x, a, b):\n",
    "    # 定义反比例函数\n",
    "    return a / x + b\n",
    "\n",
    "\n",
    "def geom_func(x, p):\n",
    "    # 定义几何分布函数\n",
    "    return (1 - p) ** (x - 1) * p\n",
    "\n",
    "\n",
    "print(curve_fit(reciprocal_func, X, Y))\n",
    "curve_fit(geom_func, X, Y/10000)\n"
   ]
  }
 ],
 "metadata": {
  "kernelspec": {
   "display_name": "Python 3",
   "language": "python",
   "name": "python3"
  },
  "language_info": {
   "codemirror_mode": {
    "name": "ipython",
    "version": 3
   },
   "file_extension": ".py",
   "mimetype": "text/x-python",
   "name": "python",
   "nbconvert_exporter": "python",
   "pygments_lexer": "ipython3",
   "version": "3.10.4"
  }
 },
 "nbformat": 4,
 "nbformat_minor": 2
}
